{
  "nbformat": 4,
  "nbformat_minor": 0,
  "metadata": {
    "colab": {
      "provenance": []
    },
    "kernelspec": {
      "name": "python3",
      "display_name": "Python 3"
    },
    "language_info": {
      "name": "python"
    }
  },
  "cells": [
    {
      "cell_type": "markdown",
      "source": [
        "**Credit-Card-Fraud-Detection-Using-Machine-Learning-Comparative-Study**\n",
        "Author: Mohammed Kharma, Feb-2023\n",
        "\n",
        "\n",
        "This book is using the dataset taken from:\n",
        "\n",
        "[Credit Card Fraud on Kaggle](https://www.kaggle.com/datasets/mlg-ulb/creditcardfraud)\n",
        "\n"
      ],
      "metadata": {
        "id": "SOLHwpf8xgFR"
      }
    },
    {
      "cell_type": "markdown",
      "source": [
        "-------------------------------------------------------------------"
      ],
      "metadata": {
        "id": "h_8HXd21yb9r"
      }
    },
    {
      "cell_type": "code",
      "execution_count": 104,
      "metadata": {
        "id": "dsGW8CMUvL-c"
      },
      "outputs": [],
      "source": [
        "#Importing the required libraries:\n",
        "\n",
        "import numpy as np\n",
        "import pandas as pd\n",
        "from sklearn.model_selection import train_test_split\n",
        "from sklearn.linear_model import LogisticRegression\n",
        "from sklearn.metrics import accuracy_score\n"
      ]
    },
    {
      "cell_type": "code",
      "source": [
        "#Read the dataset into DataFrame using pandas\n",
        "\n",
        "credit_card_data = pd.read_csv('/content/drive/MyDrive/Colab Notebooks/creditcard.csv')"
      ],
      "metadata": {
        "id": "X0-yv_6Xvdfn"
      },
      "execution_count": 105,
      "outputs": []
    },
    {
      "cell_type": "markdown",
      "source": [
        "# New Section"
      ],
      "metadata": {
        "id": "o1Vx-xnDs3vD"
      }
    },
    {
      "cell_type": "code",
      "source": [
        "# shape of the data\n",
        "credit_card_data.shape"
      ],
      "metadata": {
        "colab": {
          "base_uri": "https://localhost:8080/"
        },
        "id": "_i9LJvJL05aN",
        "outputId": "f51b526d-da8c-4ed6-d570-480cb5af879b"
      },
      "execution_count": 106,
      "outputs": [
        {
          "output_type": "execute_result",
          "data": {
            "text/plain": [
              "(284807, 31)"
            ]
          },
          "metadata": {},
          "execution_count": 106
        }
      ]
    },
    {
      "cell_type": "code",
      "source": [
        "# legit and fraudulent transactions per class\n",
        "credit_card_data['Class'].value_counts()"
      ],
      "metadata": {
        "id": "WCgZJN0Ty_ZZ",
        "colab": {
          "base_uri": "https://localhost:8080/"
        },
        "outputId": "c49a3d57-83b0-438e-9d84-577537358635"
      },
      "execution_count": 107,
      "outputs": [
        {
          "output_type": "execute_result",
          "data": {
            "text/plain": [
              "0    284315\n",
              "1       492\n",
              "Name: Class, dtype: int64"
            ]
          },
          "metadata": {},
          "execution_count": 107
        }
      ]
    },
    {
      "cell_type": "code",
      "source": [
        "# separating the data for analysis\n",
        "legit = credit_card_data[credit_card_data.Class == 0]\n",
        "fraud = credit_card_data[credit_card_data.Class == 1]\n",
        "\n",
        "print(legit.shape)\n",
        "print(fraud.shape)"
      ],
      "metadata": {
        "id": "deYNlEWdzJ91",
        "colab": {
          "base_uri": "https://localhost:8080/"
        },
        "outputId": "451963bf-6810-4219-ffd0-64077251a4ed"
      },
      "execution_count": 108,
      "outputs": [
        {
          "output_type": "stream",
          "name": "stdout",
          "text": [
            "(284315, 31)\n",
            "(492, 31)\n"
          ]
        }
      ]
    },
    {
      "cell_type": "code",
      "source": [
        "fraud.Amount.describe()"
      ],
      "metadata": {
        "id": "fGf8Vyd25tE8",
        "colab": {
          "base_uri": "https://localhost:8080/"
        },
        "outputId": "b065fa0f-ec1e-4a71-c449-e2435ac7cfe9"
      },
      "execution_count": 109,
      "outputs": [
        {
          "output_type": "execute_result",
          "data": {
            "text/plain": [
              "count     492.000000\n",
              "mean      122.211321\n",
              "std       256.683288\n",
              "min         0.000000\n",
              "25%         1.000000\n",
              "50%         9.250000\n",
              "75%       105.890000\n",
              "max      2125.870000\n",
              "Name: Amount, dtype: float64"
            ]
          },
          "metadata": {},
          "execution_count": 109
        }
      ]
    },
    {
      "cell_type": "code",
      "source": [
        "# compare the values for both transactions so we can compare the generated sample from the legitmite df where it need to refelect relevint means\n",
        "credit_card_data.groupby('Class').mean()"
      ],
      "metadata": {
        "id": "YItGvmUZzVzG",
        "colab": {
          "base_uri": "https://localhost:8080/",
          "height": 237
        },
        "outputId": "edb86b84-6d83-4dbf-859b-1c0765fa8890"
      },
      "execution_count": 110,
      "outputs": [
        {
          "output_type": "execute_result",
          "data": {
            "text/plain": [
              "               Time        V1        V2        V3        V4        V5  \\\n",
              "Class                                                                   \n",
              "0      94838.202258  0.008258 -0.006271  0.012171 -0.007860  0.005453   \n",
              "1      80746.806911 -4.771948  3.623778 -7.033281  4.542029 -3.151225   \n",
              "\n",
              "             V6        V7        V8        V9  ...       V20       V21  \\\n",
              "Class                                          ...                       \n",
              "0      0.002419  0.009637 -0.000987  0.004467  ... -0.000644 -0.001235   \n",
              "1     -1.397737 -5.568731  0.570636 -2.581123  ...  0.372319  0.713588   \n",
              "\n",
              "            V22       V23       V24       V25       V26       V27       V28  \\\n",
              "Class                                                                         \n",
              "0     -0.000024  0.000070  0.000182 -0.000072 -0.000089 -0.000295 -0.000131   \n",
              "1      0.014049 -0.040308 -0.105130  0.041449  0.051648  0.170575  0.075667   \n",
              "\n",
              "           Amount  \n",
              "Class              \n",
              "0       88.291022  \n",
              "1      122.211321  \n",
              "\n",
              "[2 rows x 30 columns]"
            ],
            "text/html": [
              "\n",
              "  <div id=\"df-62c67b37-d702-4ee0-92cf-3331d9c2c8ea\">\n",
              "    <div class=\"colab-df-container\">\n",
              "      <div>\n",
              "<style scoped>\n",
              "    .dataframe tbody tr th:only-of-type {\n",
              "        vertical-align: middle;\n",
              "    }\n",
              "\n",
              "    .dataframe tbody tr th {\n",
              "        vertical-align: top;\n",
              "    }\n",
              "\n",
              "    .dataframe thead th {\n",
              "        text-align: right;\n",
              "    }\n",
              "</style>\n",
              "<table border=\"1\" class=\"dataframe\">\n",
              "  <thead>\n",
              "    <tr style=\"text-align: right;\">\n",
              "      <th></th>\n",
              "      <th>Time</th>\n",
              "      <th>V1</th>\n",
              "      <th>V2</th>\n",
              "      <th>V3</th>\n",
              "      <th>V4</th>\n",
              "      <th>V5</th>\n",
              "      <th>V6</th>\n",
              "      <th>V7</th>\n",
              "      <th>V8</th>\n",
              "      <th>V9</th>\n",
              "      <th>...</th>\n",
              "      <th>V20</th>\n",
              "      <th>V21</th>\n",
              "      <th>V22</th>\n",
              "      <th>V23</th>\n",
              "      <th>V24</th>\n",
              "      <th>V25</th>\n",
              "      <th>V26</th>\n",
              "      <th>V27</th>\n",
              "      <th>V28</th>\n",
              "      <th>Amount</th>\n",
              "    </tr>\n",
              "    <tr>\n",
              "      <th>Class</th>\n",
              "      <th></th>\n",
              "      <th></th>\n",
              "      <th></th>\n",
              "      <th></th>\n",
              "      <th></th>\n",
              "      <th></th>\n",
              "      <th></th>\n",
              "      <th></th>\n",
              "      <th></th>\n",
              "      <th></th>\n",
              "      <th></th>\n",
              "      <th></th>\n",
              "      <th></th>\n",
              "      <th></th>\n",
              "      <th></th>\n",
              "      <th></th>\n",
              "      <th></th>\n",
              "      <th></th>\n",
              "      <th></th>\n",
              "      <th></th>\n",
              "      <th></th>\n",
              "    </tr>\n",
              "  </thead>\n",
              "  <tbody>\n",
              "    <tr>\n",
              "      <th>0</th>\n",
              "      <td>94838.202258</td>\n",
              "      <td>0.008258</td>\n",
              "      <td>-0.006271</td>\n",
              "      <td>0.012171</td>\n",
              "      <td>-0.007860</td>\n",
              "      <td>0.005453</td>\n",
              "      <td>0.002419</td>\n",
              "      <td>0.009637</td>\n",
              "      <td>-0.000987</td>\n",
              "      <td>0.004467</td>\n",
              "      <td>...</td>\n",
              "      <td>-0.000644</td>\n",
              "      <td>-0.001235</td>\n",
              "      <td>-0.000024</td>\n",
              "      <td>0.000070</td>\n",
              "      <td>0.000182</td>\n",
              "      <td>-0.000072</td>\n",
              "      <td>-0.000089</td>\n",
              "      <td>-0.000295</td>\n",
              "      <td>-0.000131</td>\n",
              "      <td>88.291022</td>\n",
              "    </tr>\n",
              "    <tr>\n",
              "      <th>1</th>\n",
              "      <td>80746.806911</td>\n",
              "      <td>-4.771948</td>\n",
              "      <td>3.623778</td>\n",
              "      <td>-7.033281</td>\n",
              "      <td>4.542029</td>\n",
              "      <td>-3.151225</td>\n",
              "      <td>-1.397737</td>\n",
              "      <td>-5.568731</td>\n",
              "      <td>0.570636</td>\n",
              "      <td>-2.581123</td>\n",
              "      <td>...</td>\n",
              "      <td>0.372319</td>\n",
              "      <td>0.713588</td>\n",
              "      <td>0.014049</td>\n",
              "      <td>-0.040308</td>\n",
              "      <td>-0.105130</td>\n",
              "      <td>0.041449</td>\n",
              "      <td>0.051648</td>\n",
              "      <td>0.170575</td>\n",
              "      <td>0.075667</td>\n",
              "      <td>122.211321</td>\n",
              "    </tr>\n",
              "  </tbody>\n",
              "</table>\n",
              "<p>2 rows × 30 columns</p>\n",
              "</div>\n",
              "      <button class=\"colab-df-convert\" onclick=\"convertToInteractive('df-62c67b37-d702-4ee0-92cf-3331d9c2c8ea')\"\n",
              "              title=\"Convert this dataframe to an interactive table.\"\n",
              "              style=\"display:none;\">\n",
              "        \n",
              "  <svg xmlns=\"http://www.w3.org/2000/svg\" height=\"24px\"viewBox=\"0 0 24 24\"\n",
              "       width=\"24px\">\n",
              "    <path d=\"M0 0h24v24H0V0z\" fill=\"none\"/>\n",
              "    <path d=\"M18.56 5.44l.94 2.06.94-2.06 2.06-.94-2.06-.94-.94-2.06-.94 2.06-2.06.94zm-11 1L8.5 8.5l.94-2.06 2.06-.94-2.06-.94L8.5 2.5l-.94 2.06-2.06.94zm10 10l.94 2.06.94-2.06 2.06-.94-2.06-.94-.94-2.06-.94 2.06-2.06.94z\"/><path d=\"M17.41 7.96l-1.37-1.37c-.4-.4-.92-.59-1.43-.59-.52 0-1.04.2-1.43.59L10.3 9.45l-7.72 7.72c-.78.78-.78 2.05 0 2.83L4 21.41c.39.39.9.59 1.41.59.51 0 1.02-.2 1.41-.59l7.78-7.78 2.81-2.81c.8-.78.8-2.07 0-2.86zM5.41 20L4 18.59l7.72-7.72 1.47 1.35L5.41 20z\"/>\n",
              "  </svg>\n",
              "      </button>\n",
              "      \n",
              "  <style>\n",
              "    .colab-df-container {\n",
              "      display:flex;\n",
              "      flex-wrap:wrap;\n",
              "      gap: 12px;\n",
              "    }\n",
              "\n",
              "    .colab-df-convert {\n",
              "      background-color: #E8F0FE;\n",
              "      border: none;\n",
              "      border-radius: 50%;\n",
              "      cursor: pointer;\n",
              "      display: none;\n",
              "      fill: #1967D2;\n",
              "      height: 32px;\n",
              "      padding: 0 0 0 0;\n",
              "      width: 32px;\n",
              "    }\n",
              "\n",
              "    .colab-df-convert:hover {\n",
              "      background-color: #E2EBFA;\n",
              "      box-shadow: 0px 1px 2px rgba(60, 64, 67, 0.3), 0px 1px 3px 1px rgba(60, 64, 67, 0.15);\n",
              "      fill: #174EA6;\n",
              "    }\n",
              "\n",
              "    [theme=dark] .colab-df-convert {\n",
              "      background-color: #3B4455;\n",
              "      fill: #D2E3FC;\n",
              "    }\n",
              "\n",
              "    [theme=dark] .colab-df-convert:hover {\n",
              "      background-color: #434B5C;\n",
              "      box-shadow: 0px 1px 3px 1px rgba(0, 0, 0, 0.15);\n",
              "      filter: drop-shadow(0px 1px 2px rgba(0, 0, 0, 0.3));\n",
              "      fill: #FFFFFF;\n",
              "    }\n",
              "  </style>\n",
              "\n",
              "      <script>\n",
              "        const buttonEl =\n",
              "          document.querySelector('#df-62c67b37-d702-4ee0-92cf-3331d9c2c8ea button.colab-df-convert');\n",
              "        buttonEl.style.display =\n",
              "          google.colab.kernel.accessAllowed ? 'block' : 'none';\n",
              "\n",
              "        async function convertToInteractive(key) {\n",
              "          const element = document.querySelector('#df-62c67b37-d702-4ee0-92cf-3331d9c2c8ea');\n",
              "          const dataTable =\n",
              "            await google.colab.kernel.invokeFunction('convertToInteractive',\n",
              "                                                     [key], {});\n",
              "          if (!dataTable) return;\n",
              "\n",
              "          const docLinkHtml = 'Like what you see? Visit the ' +\n",
              "            '<a target=\"_blank\" href=https://colab.research.google.com/notebooks/data_table.ipynb>data table notebook</a>'\n",
              "            + ' to learn more about interactive tables.';\n",
              "          element.innerHTML = '';\n",
              "          dataTable['output_type'] = 'display_data';\n",
              "          await google.colab.output.renderOutput(dataTable, element);\n",
              "          const docLink = document.createElement('div');\n",
              "          docLink.innerHTML = docLinkHtml;\n",
              "          element.appendChild(docLink);\n",
              "        }\n",
              "      </script>\n",
              "    </div>\n",
              "  </div>\n",
              "  "
            ]
          },
          "metadata": {},
          "execution_count": 110
        }
      ]
    },
    {
      "cell_type": "markdown",
      "source": [
        "Under-Sampling\n",
        "\n",
        "Build a sample dataset containing similar distribution of normal transactions and Fraudulent Transactions\n",
        "\n",
        "Number of Fraudulent Transactions --> 492"
      ],
      "metadata": {
        "id": "GvFtJWvPzao-"
      }
    },
    {
      "cell_type": "code",
      "source": [
        "# #legit_test = legit.sample(n=2000)\n",
        "# legit_test = legit.iloc[0:2001,0:32]\n",
        "# legit = legit.iloc[2002:,0:32]"
      ],
      "metadata": {
        "id": "Pyz7erKN7drV"
      },
      "execution_count": 111,
      "outputs": []
    },
    {
      "cell_type": "code",
      "source": [
        "# from sklearn.utils import shuffle\n",
        "# legit_sample = legit.sample(n=492)"
      ],
      "metadata": {
        "id": "Pgtv5Z3NzcpS"
      },
      "execution_count": 112,
      "outputs": []
    },
    {
      "cell_type": "code",
      "source": [
        "# legit_sample.shape"
      ],
      "metadata": {
        "id": "gDJ-rnEl71vs"
      },
      "execution_count": 113,
      "outputs": []
    },
    {
      "cell_type": "code",
      "source": [
        "# legit_test"
      ],
      "metadata": {
        "id": "g9NK5TfU8XNu"
      },
      "execution_count": 114,
      "outputs": []
    },
    {
      "cell_type": "markdown",
      "source": [
        "Concatenate both dataFrames"
      ],
      "metadata": {
        "id": "M6V0tuWPziKA"
      }
    },
    {
      "cell_type": "code",
      "source": [
        "new_dataset = pd.concat([legit, fraud], axis=0)"
      ],
      "metadata": {
        "id": "U6QtjL4gzgkC"
      },
      "execution_count": 115,
      "outputs": []
    },
    {
      "cell_type": "code",
      "source": [
        "new_dataset.head()\n",
        "new_dataset.tail()\n",
        "new_dataset['Class'].value_counts()\n",
        "new_dataset.groupby('Class').mean()\n"
      ],
      "metadata": {
        "colab": {
          "base_uri": "https://localhost:8080/",
          "height": 237
        },
        "id": "tVkSy40mzoci",
        "outputId": "d4629276-414a-4d2b-cb6f-1c281fac2184"
      },
      "execution_count": 116,
      "outputs": [
        {
          "output_type": "execute_result",
          "data": {
            "text/plain": [
              "               Time        V1        V2        V3        V4        V5  \\\n",
              "Class                                                                   \n",
              "0      94838.202258  0.008258 -0.006271  0.012171 -0.007860  0.005453   \n",
              "1      80746.806911 -4.771948  3.623778 -7.033281  4.542029 -3.151225   \n",
              "\n",
              "             V6        V7        V8        V9  ...       V20       V21  \\\n",
              "Class                                          ...                       \n",
              "0      0.002419  0.009637 -0.000987  0.004467  ... -0.000644 -0.001235   \n",
              "1     -1.397737 -5.568731  0.570636 -2.581123  ...  0.372319  0.713588   \n",
              "\n",
              "            V22       V23       V24       V25       V26       V27       V28  \\\n",
              "Class                                                                         \n",
              "0     -0.000024  0.000070  0.000182 -0.000072 -0.000089 -0.000295 -0.000131   \n",
              "1      0.014049 -0.040308 -0.105130  0.041449  0.051648  0.170575  0.075667   \n",
              "\n",
              "           Amount  \n",
              "Class              \n",
              "0       88.291022  \n",
              "1      122.211321  \n",
              "\n",
              "[2 rows x 30 columns]"
            ],
            "text/html": [
              "\n",
              "  <div id=\"df-66a14ba8-4869-48ac-a3cb-a2440370d67b\">\n",
              "    <div class=\"colab-df-container\">\n",
              "      <div>\n",
              "<style scoped>\n",
              "    .dataframe tbody tr th:only-of-type {\n",
              "        vertical-align: middle;\n",
              "    }\n",
              "\n",
              "    .dataframe tbody tr th {\n",
              "        vertical-align: top;\n",
              "    }\n",
              "\n",
              "    .dataframe thead th {\n",
              "        text-align: right;\n",
              "    }\n",
              "</style>\n",
              "<table border=\"1\" class=\"dataframe\">\n",
              "  <thead>\n",
              "    <tr style=\"text-align: right;\">\n",
              "      <th></th>\n",
              "      <th>Time</th>\n",
              "      <th>V1</th>\n",
              "      <th>V2</th>\n",
              "      <th>V3</th>\n",
              "      <th>V4</th>\n",
              "      <th>V5</th>\n",
              "      <th>V6</th>\n",
              "      <th>V7</th>\n",
              "      <th>V8</th>\n",
              "      <th>V9</th>\n",
              "      <th>...</th>\n",
              "      <th>V20</th>\n",
              "      <th>V21</th>\n",
              "      <th>V22</th>\n",
              "      <th>V23</th>\n",
              "      <th>V24</th>\n",
              "      <th>V25</th>\n",
              "      <th>V26</th>\n",
              "      <th>V27</th>\n",
              "      <th>V28</th>\n",
              "      <th>Amount</th>\n",
              "    </tr>\n",
              "    <tr>\n",
              "      <th>Class</th>\n",
              "      <th></th>\n",
              "      <th></th>\n",
              "      <th></th>\n",
              "      <th></th>\n",
              "      <th></th>\n",
              "      <th></th>\n",
              "      <th></th>\n",
              "      <th></th>\n",
              "      <th></th>\n",
              "      <th></th>\n",
              "      <th></th>\n",
              "      <th></th>\n",
              "      <th></th>\n",
              "      <th></th>\n",
              "      <th></th>\n",
              "      <th></th>\n",
              "      <th></th>\n",
              "      <th></th>\n",
              "      <th></th>\n",
              "      <th></th>\n",
              "      <th></th>\n",
              "    </tr>\n",
              "  </thead>\n",
              "  <tbody>\n",
              "    <tr>\n",
              "      <th>0</th>\n",
              "      <td>94838.202258</td>\n",
              "      <td>0.008258</td>\n",
              "      <td>-0.006271</td>\n",
              "      <td>0.012171</td>\n",
              "      <td>-0.007860</td>\n",
              "      <td>0.005453</td>\n",
              "      <td>0.002419</td>\n",
              "      <td>0.009637</td>\n",
              "      <td>-0.000987</td>\n",
              "      <td>0.004467</td>\n",
              "      <td>...</td>\n",
              "      <td>-0.000644</td>\n",
              "      <td>-0.001235</td>\n",
              "      <td>-0.000024</td>\n",
              "      <td>0.000070</td>\n",
              "      <td>0.000182</td>\n",
              "      <td>-0.000072</td>\n",
              "      <td>-0.000089</td>\n",
              "      <td>-0.000295</td>\n",
              "      <td>-0.000131</td>\n",
              "      <td>88.291022</td>\n",
              "    </tr>\n",
              "    <tr>\n",
              "      <th>1</th>\n",
              "      <td>80746.806911</td>\n",
              "      <td>-4.771948</td>\n",
              "      <td>3.623778</td>\n",
              "      <td>-7.033281</td>\n",
              "      <td>4.542029</td>\n",
              "      <td>-3.151225</td>\n",
              "      <td>-1.397737</td>\n",
              "      <td>-5.568731</td>\n",
              "      <td>0.570636</td>\n",
              "      <td>-2.581123</td>\n",
              "      <td>...</td>\n",
              "      <td>0.372319</td>\n",
              "      <td>0.713588</td>\n",
              "      <td>0.014049</td>\n",
              "      <td>-0.040308</td>\n",
              "      <td>-0.105130</td>\n",
              "      <td>0.041449</td>\n",
              "      <td>0.051648</td>\n",
              "      <td>0.170575</td>\n",
              "      <td>0.075667</td>\n",
              "      <td>122.211321</td>\n",
              "    </tr>\n",
              "  </tbody>\n",
              "</table>\n",
              "<p>2 rows × 30 columns</p>\n",
              "</div>\n",
              "      <button class=\"colab-df-convert\" onclick=\"convertToInteractive('df-66a14ba8-4869-48ac-a3cb-a2440370d67b')\"\n",
              "              title=\"Convert this dataframe to an interactive table.\"\n",
              "              style=\"display:none;\">\n",
              "        \n",
              "  <svg xmlns=\"http://www.w3.org/2000/svg\" height=\"24px\"viewBox=\"0 0 24 24\"\n",
              "       width=\"24px\">\n",
              "    <path d=\"M0 0h24v24H0V0z\" fill=\"none\"/>\n",
              "    <path d=\"M18.56 5.44l.94 2.06.94-2.06 2.06-.94-2.06-.94-.94-2.06-.94 2.06-2.06.94zm-11 1L8.5 8.5l.94-2.06 2.06-.94-2.06-.94L8.5 2.5l-.94 2.06-2.06.94zm10 10l.94 2.06.94-2.06 2.06-.94-2.06-.94-.94-2.06-.94 2.06-2.06.94z\"/><path d=\"M17.41 7.96l-1.37-1.37c-.4-.4-.92-.59-1.43-.59-.52 0-1.04.2-1.43.59L10.3 9.45l-7.72 7.72c-.78.78-.78 2.05 0 2.83L4 21.41c.39.39.9.59 1.41.59.51 0 1.02-.2 1.41-.59l7.78-7.78 2.81-2.81c.8-.78.8-2.07 0-2.86zM5.41 20L4 18.59l7.72-7.72 1.47 1.35L5.41 20z\"/>\n",
              "  </svg>\n",
              "      </button>\n",
              "      \n",
              "  <style>\n",
              "    .colab-df-container {\n",
              "      display:flex;\n",
              "      flex-wrap:wrap;\n",
              "      gap: 12px;\n",
              "    }\n",
              "\n",
              "    .colab-df-convert {\n",
              "      background-color: #E8F0FE;\n",
              "      border: none;\n",
              "      border-radius: 50%;\n",
              "      cursor: pointer;\n",
              "      display: none;\n",
              "      fill: #1967D2;\n",
              "      height: 32px;\n",
              "      padding: 0 0 0 0;\n",
              "      width: 32px;\n",
              "    }\n",
              "\n",
              "    .colab-df-convert:hover {\n",
              "      background-color: #E2EBFA;\n",
              "      box-shadow: 0px 1px 2px rgba(60, 64, 67, 0.3), 0px 1px 3px 1px rgba(60, 64, 67, 0.15);\n",
              "      fill: #174EA6;\n",
              "    }\n",
              "\n",
              "    [theme=dark] .colab-df-convert {\n",
              "      background-color: #3B4455;\n",
              "      fill: #D2E3FC;\n",
              "    }\n",
              "\n",
              "    [theme=dark] .colab-df-convert:hover {\n",
              "      background-color: #434B5C;\n",
              "      box-shadow: 0px 1px 3px 1px rgba(0, 0, 0, 0.15);\n",
              "      filter: drop-shadow(0px 1px 2px rgba(0, 0, 0, 0.3));\n",
              "      fill: #FFFFFF;\n",
              "    }\n",
              "  </style>\n",
              "\n",
              "      <script>\n",
              "        const buttonEl =\n",
              "          document.querySelector('#df-66a14ba8-4869-48ac-a3cb-a2440370d67b button.colab-df-convert');\n",
              "        buttonEl.style.display =\n",
              "          google.colab.kernel.accessAllowed ? 'block' : 'none';\n",
              "\n",
              "        async function convertToInteractive(key) {\n",
              "          const element = document.querySelector('#df-66a14ba8-4869-48ac-a3cb-a2440370d67b');\n",
              "          const dataTable =\n",
              "            await google.colab.kernel.invokeFunction('convertToInteractive',\n",
              "                                                     [key], {});\n",
              "          if (!dataTable) return;\n",
              "\n",
              "          const docLinkHtml = 'Like what you see? Visit the ' +\n",
              "            '<a target=\"_blank\" href=https://colab.research.google.com/notebooks/data_table.ipynb>data table notebook</a>'\n",
              "            + ' to learn more about interactive tables.';\n",
              "          element.innerHTML = '';\n",
              "          dataTable['output_type'] = 'display_data';\n",
              "          await google.colab.output.renderOutput(dataTable, element);\n",
              "          const docLink = document.createElement('div');\n",
              "          docLink.innerHTML = docLinkHtml;\n",
              "          element.appendChild(docLink);\n",
              "        }\n",
              "      </script>\n",
              "    </div>\n",
              "  </div>\n",
              "  "
            ]
          },
          "metadata": {},
          "execution_count": 116
        }
      ]
    },
    {
      "cell_type": "markdown",
      "source": [
        "Splitting the data into Features & Targets"
      ],
      "metadata": {
        "id": "JpsnRF0Ozwha"
      }
    },
    {
      "cell_type": "markdown",
      "source": [
        "Correlation of features using heatmap"
      ],
      "metadata": {
        "id": "cmXB0Ecw3RNk"
      }
    },
    {
      "cell_type": "code",
      "source": [
        "correlation_matrix = credit_card_data.corr()\n",
        "fig = plt.figure(figsize=(10,8))\n",
        "sns.heatmap(correlation_matrix,vmax=0.8,square = True)\n",
        "plt.show()"
      ],
      "metadata": {
        "colab": {
          "base_uri": "https://localhost:8080/",
          "height": 516
        },
        "id": "_3fCntHd3O6s",
        "outputId": "c5cdc24c-cf16-4507-b871-83920998427f"
      },
      "execution_count": 117,
      "outputs": [
        {
          "output_type": "display_data",
          "data": {
            "text/plain": [
              "<Figure size 720x576 with 2 Axes>"
            ],
            "image/png": "[encoded data removed]"
          },
          "metadata": {
            "needs_background": "light"
          }
        }
      ]
    },
    {
      "cell_type": "code",
      "source": [
        "# distribution of features to compare both classes\n",
        "import matplotlib.gridspec as gridspec\n",
        "import seaborn as sns\n",
        "\n",
        "if False:\n",
        "  anomalous_features = credit_card_data.iloc[:,1:30].columns\n",
        "  columns = 4\n",
        "  rows = 5\n",
        "  plt.figure(figsize=(5,30*4))\n",
        "  gs = gridspec.GridSpec(30, 1)\n",
        "  for i, cn in enumerate(credit_card_data[anomalous_features]):\n",
        "      ax = plt.subplot(gs[i])\n",
        "      sns.distplot(credit_card_data[cn][credit_card_data.Class == 1], bins=6)\n",
        "      sns.distplot(credit_card_data[cn][credit_card_data.Class == 0], bins=6)\n",
        "      ax.set_xlabel('')\n",
        "      ax.set_title('Feature ' + str(cn) + ' histogram')\n",
        "  plt.show()"
      ],
      "metadata": {
        "id": "Nt2IcTOdhq_T"
      },
      "execution_count": 118,
      "outputs": []
    },
    {
      "cell_type": "markdown",
      "source": [
        "Experement #1 &2"
      ],
      "metadata": {
        "id": "Q46gMRXlz5mh"
      }
    },
    {
      "cell_type": "code",
      "source": [
        "#10 runs \n",
        "from sklearn import ensemble\n",
        "\n",
        "from sklearn.metrics import classification_report\n",
        "from sklearn.utils import shuffle\n",
        "from sklearn.ensemble import RandomForestClassifier  # Include\n",
        "from sklearn.naive_bayes import GaussianNB   # Include\n",
        "from sklearn.svm import SVC                      # Include\n",
        "from sklearn.neighbors import KNeighborsClassifier\n",
        "from sklearn.ensemble import GradientBoostingClassifier\n",
        "\n",
        "\n",
        "#model = LogisticRegression()     # Include\n",
        "model = RandomForestClassifier(n_estimators=100)\n",
        "#model = GaussianNB()\n",
        "#model = SVC(kernel='linear', C=1.0)\n",
        "#model = GradientBoostingClassifier(n_estimators=100, learning_rate=0.1, max_depth=6)\n",
        "\n",
        "for i in range(1, 2):\n",
        "  legit_new_sample = legit.sample(n=492)\n",
        "\n",
        "  new_dataset = pd.concat([legit_new_sample, fraud], axis=0)\n",
        "\n",
        "  # new_dataset = new_dataset[['V12' ,'V14' ,'V16','V17','V18','Class']]\n",
        "\n",
        "  X_new = new_dataset.drop(columns='Class', axis=1)\n",
        "  Y_new = new_dataset['Class']\n",
        "\n",
        "  X_train_new, X_test_new, Y_train_new, Y_test_new = train_test_split(X_new, Y_new, test_size=0.2, stratify=Y_new, random_state=2)\n",
        "\n",
        "\n",
        "  model.fit(X_train_new, Y_train_new)\n",
        "  # accuracy on training data\n",
        "  X_train_prediction_new = model.predict(X_train_new)\n",
        "  # training_data_accuracy_new = accuracy_score(X_train_prediction_new, Y_train_new)\n",
        "\n",
        "  #print('Accuracy on Training data : ', training_data_accuracy_new)\n",
        "\n",
        "  # accuracy on test data\n",
        "  X_test_prediction_new = model.predict(X_test_new)\n",
        "  test_data_accuracy_new = accuracy_score(Y_test_new, X_test_prediction_new)\n",
        "\n",
        "  print(classification_report(Y_test_new,X_test_prediction_new))"
      ],
      "metadata": {
        "colab": {
          "base_uri": "https://localhost:8080/"
        },
        "id": "YDSgev2drT11",
        "outputId": "72887004-8eba-4a15-cfe8-61fce1a756f9"
      },
      "execution_count": 119,
      "outputs": [
        {
          "output_type": "stream",
          "name": "stdout",
          "text": [
            "              precision    recall  f1-score   support\n",
            "\n",
            "           0       0.88      0.99      0.93        99\n",
            "           1       0.99      0.86      0.92        98\n",
            "\n",
            "    accuracy                           0.92       197\n",
            "   macro avg       0.93      0.92      0.92       197\n",
            "weighted avg       0.93      0.92      0.92       197\n",
            "\n"
          ]
        }
      ]
    },
    {
      "cell_type": "markdown",
      "source": [
        "Display the results"
      ],
      "metadata": {
        "id": "pLOcfkSs0BUR"
      }
    },
    {
      "cell_type": "code",
      "source": [
        "  from sklearn.metrics import classification_report\n",
        "  print(classification_report(X_test_prediction_new,Y_test_new))\n",
        "\n",
        "import matplotlib.pyplot as plt\n",
        "import numpy\n",
        "from sklearn import metrics\n",
        "\n",
        "actual = Y_test_new\n",
        "predicted = X_test_prediction_new\n",
        "\n",
        "confusion_matrix = metrics.confusion_matrix(predicted,actual)\n",
        "\n",
        "cm_display = metrics.ConfusionMatrixDisplay(confusion_matrix = confusion_matrix, display_labels = [\"Legit\",\"Fraud\"])\n",
        "\n",
        "cm_display.plot()\n",
        "plt.show()\n",
        "\n",
        "\n"
      ],
      "metadata": {
        "colab": {
          "base_uri": "https://localhost:8080/",
          "height": 435
        },
        "id": "Lb5yUkOoHkU3",
        "outputId": "e894d34c-12cb-4bb8-e6ef-1d0b2139580a"
      },
      "execution_count": 120,
      "outputs": [
        {
          "output_type": "stream",
          "name": "stdout",
          "text": [
            "              precision    recall  f1-score   support\n",
            "\n",
            "           0       0.99      0.88      0.93       112\n",
            "           1       0.86      0.99      0.92        85\n",
            "\n",
            "    accuracy                           0.92       197\n",
            "   macro avg       0.92      0.93      0.92       197\n",
            "weighted avg       0.93      0.92      0.92       197\n",
            "\n"
          ]
        },
        {
          "output_type": "display_data",
          "data": {
            "text/plain": [
              "<Figure size 432x288 with 2 Axes>"
            ],
            "image/png": "[encoded data removed]"
          },
          "metadata": {
            "needs_background": "light"
          }
        }
      ]
    },
    {
      "cell_type": "markdown",
      "source": [
        "Experement #3 - Oversampling"
      ],
      "metadata": {
        "id": "BSHoj_WZ0GVW"
      }
    },
    {
      "cell_type": "code",
      "source": [
        "from sklearn import ensemble\n",
        "\n",
        "from sklearn.metrics import classification_report\n",
        "from sklearn.utils import shuffle\n",
        "from sklearn.ensemble import RandomForestClassifier  # Include\n",
        "from sklearn.naive_bayes import GaussianNB   # Include\n",
        "from sklearn.svm import SVC                      # Include\n",
        "from sklearn.neighbors import KNeighborsClassifier\n",
        "from sklearn.ensemble import GradientBoostingClassifier\n",
        "from imblearn.over_sampling import RandomOverSampler\n",
        "\n",
        "model = LogisticRegression(C=1, penalty='l2')     # Include\n",
        "# model = RandomForestClassifier(n_estimators=20)\n",
        "#model = GaussianNB()\n",
        "#model = SVC(kernel='linear', C=1.0)\n",
        "#model = GradientBoostingClassifier(n_estimators=100, learning_rate=0.01, max_depth=10)\n",
        "\n",
        "for i in range(1, 2):\n",
        "  legit_new_sample = legit\n",
        "\n",
        "  new_dataset = pd.concat([legit_new_sample, fraud], axis=0)\n",
        "\n",
        "  # new_dataset = new_dataset[['V12' ,'V14' ,'V16','V17','V18','Class']]\n",
        "\n",
        "  X_new = new_dataset.drop(columns='Class', axis=1)\n",
        "  Y_new = new_dataset['Class']\n",
        "\n",
        "\n",
        "  X_train_new, X_test_new, Y_train_new, Y_test_new = train_test_split(X_new, Y_new, test_size=0.2, stratify=Y_new, random_state=2)\n",
        "\n",
        "\n",
        "  ros= RandomOverSampler(sampling_strategy='minority')\n",
        "  X_train_new, Y_train_new=ros.fit_resample(X_train_new, Y_train_new)\n",
        "\n",
        "  X_test_new, Y_test_new=ros.fit_resample(X_test_new, Y_test_new)\n",
        "\n",
        "\n",
        "  # parameters = {\n",
        "  #   \"n_estimators\":[5,50,250,500],\n",
        "  #   \"max_depth\":[1,3,5,7,9],\n",
        "  #   \"learning_rate\":[0.01,0.1,1,10,100]\n",
        "  # }\n",
        "  # from sklearn.model_selection import GridSearchCV\n",
        "  # cv = GridSearchCV(model,parameters,cv=5)\n",
        "  # cv.fit(X_train_new,Y_train_new.values.ravel())\n",
        "\n",
        "  # logcls_os = GridSearchCV(, param_grid = param_grid, cv = 3, verbose=3, n_jobs=-1)\n",
        "  # bestlogcls_os = logcls_os.fit(X_train_new, Y_train_new)\n",
        "  # bestlogcls_os.estimator\n",
        "\n",
        "  model.fit(X_train_new, Y_train_new)\n",
        "  # accuracy on training data\n",
        "  X_train_prediction_new = model.predict(X_train_new)\n",
        "  # training_data_accuracy_new = accuracy_score(X_train_prediction_new, Y_train_new)\n",
        "\n",
        "  #print('Accuracy on Training data : ', training_data_accuracy_new)\n",
        "\n",
        "  # accuracy on test data\n",
        "  X_test_prediction_new = model.predict(X_test_new)\n",
        "  test_data_accuracy_new = accuracy_score(Y_test_new, X_test_prediction_new)\n",
        "\n",
        "  print(classification_report(Y_test_new,X_test_prediction_new))"
      ],
      "metadata": {
        "id": "QIKRl-OZv4PP",
        "colab": {
          "base_uri": "https://localhost:8080/"
        },
        "outputId": "0566e140-be94-4826-8465-4aa879bee2d5"
      },
      "execution_count": 121,
      "outputs": [
        {
          "output_type": "stream",
          "name": "stdout",
          "text": [
            "              precision    recall  f1-score   support\n",
            "\n",
            "           0       0.93      0.96      0.95     56864\n",
            "           1       0.96      0.93      0.95     56864\n",
            "\n",
            "    accuracy                           0.95    113728\n",
            "   macro avg       0.95      0.95      0.95    113728\n",
            "weighted avg       0.95      0.95      0.95    113728\n",
            "\n"
          ]
        }
      ]
    },
    {
      "cell_type": "markdown",
      "source": [
        "Show results"
      ],
      "metadata": {
        "id": "Ze0R7sAH0c23"
      }
    },
    {
      "cell_type": "code",
      "source": [
        "  from sklearn.metrics import classification_report\n",
        "  print(classification_report(X_test_prediction_new,Y_test_new))\n",
        "\n",
        "import matplotlib.pyplot as plt\n",
        "import numpy\n",
        "from sklearn import metrics\n",
        "\n",
        "actual = Y_test_new\n",
        "predicted = X_test_prediction_new\n",
        "\n",
        "confusion_matrix = metrics.confusion_matrix(predicted,actual)\n",
        "\n",
        "cm_display = metrics.ConfusionMatrixDisplay(confusion_matrix = confusion_matrix, display_labels = [\"Legit\",\"Fraud\"])\n",
        "\n",
        "cm_display.plot()\n",
        "plt.show()"
      ],
      "metadata": {
        "colab": {
          "base_uri": "https://localhost:8080/",
          "height": 435
        },
        "id": "XeoUYxZY0b37",
        "outputId": "fcd15e02-7547-41b9-a735-362c95b106a0"
      },
      "execution_count": 122,
      "outputs": [
        {
          "output_type": "stream",
          "name": "stdout",
          "text": [
            "              precision    recall  f1-score   support\n",
            "\n",
            "           0       0.96      0.93      0.95     58799\n",
            "           1       0.93      0.96      0.95     54929\n",
            "\n",
            "    accuracy                           0.95    113728\n",
            "   macro avg       0.95      0.95      0.95    113728\n",
            "weighted avg       0.95      0.95      0.95    113728\n",
            "\n"
          ]
        },
        {
          "output_type": "display_data",
          "data": {
            "text/plain": [
              "<Figure size 432x288 with 2 Axes>"
            ],
            "image/png": "[encoded data removed]"
          },
          "metadata": {
            "needs_background": "light"
          }
        }
      ]
    },
    {
      "cell_type": "markdown",
      "source": [
        "SMOTE"
      ],
      "metadata": {
        "id": "rgXW3DkA9UUd"
      }
    },
    {
      "cell_type": "code",
      "source": [
        "from sklearn import ensemble\n",
        "\n",
        "from sklearn.metrics import classification_report\n",
        "from sklearn.utils import shuffle\n",
        "from sklearn.ensemble import RandomForestClassifier  # Include\n",
        "from sklearn.naive_bayes import GaussianNB   # Include\n",
        "from sklearn.svm import SVC                      # Include\n",
        "from sklearn.neighbors import KNeighborsClassifier\n",
        "from sklearn.ensemble import GradientBoostingClassifier\n",
        "from imblearn.over_sampling import RandomOverSampler\n",
        "\n",
        "model = LogisticRegression()     # Include\n",
        "# model = RandomForestClassifier(n_estimators=20)\n",
        "#model = GaussianNB()\n",
        "#model = SVC(kernel='linear', C=1.0)\n",
        "# model = GradientBoostingClassifier(n_estimators=10, learning_rate=0.1, max_depth=10)\n",
        "\n",
        "for i in range(1, 2):\n",
        "  legit_new_sample = legit #.sample(n=492)\n",
        "\n",
        "  new_dataset = pd.concat([legit_new_sample, fraud], axis=0)\n",
        "\n",
        "  # new_dataset = new_dataset[['V1' ,'V3' ,'V4' ,'V7' ,'V10' ,'V11' ,'V12' ,'V14' ,'V16','V17','V18','Class']]\n",
        "\n",
        "  X_new = new_dataset.drop(columns=['Class'], axis=1)\n",
        "  Y_new = new_dataset['Class']\n",
        "\n",
        "  X_train_new, X_test_new, Y_train_new, Y_test_new = train_test_split(X_new, Y_new, test_size=0.2, stratify=Y_new, random_state=2)\n",
        "\n",
        "  from imblearn.over_sampling import SMOTE\n",
        "\n",
        "  # ros= SMOTE\n",
        "  # X_train_new, Y_train_new=ros.fit_resample(X_train_new, Y_train_new,y=)\n",
        "\n",
        "  # X_test_new, Y_test_new=ros.fit_resample(X_test_new, Y_test_new)\n",
        "\n",
        "\n",
        "  model.fit(X_train_new, Y_train_new)\n",
        "  # accuracy on training data\n",
        "  X_train_prediction_new = model.predict(X_train_new)\n",
        "  # training_data_accuracy_new = accuracy_score(X_train_prediction_new, Y_train_new)\n",
        "\n",
        "  #print('Accuracy on Training data : ', training_data_accuracy_new)\n",
        "\n",
        "  # accuracy on test data\n",
        "  X_test_prediction_new = model.predict(X_test_new)\n",
        "  test_data_accuracy_new = accuracy_score(Y_test_new, X_test_prediction_new)\n",
        "\n",
        "  print(classification_report(Y_test_new,X_test_prediction_new))"
      ],
      "metadata": {
        "colab": {
          "base_uri": "https://localhost:8080/"
        },
        "id": "p8J43nXm9Ng8",
        "outputId": "62b5337d-7163-4167-ad3d-a69b015e4876"
      },
      "execution_count": 123,
      "outputs": [
        {
          "output_type": "stream",
          "name": "stdout",
          "text": [
            "              precision    recall  f1-score   support\n",
            "\n",
            "           0       1.00      1.00      1.00     56864\n",
            "           1       0.77      0.64      0.70        98\n",
            "\n",
            "    accuracy                           1.00     56962\n",
            "   macro avg       0.88      0.82      0.85     56962\n",
            "weighted avg       1.00      1.00      1.00     56962\n",
            "\n"
          ]
        },
        {
          "output_type": "stream",
          "name": "stderr",
          "text": [
            "/usr/local/lib/python3.8/dist-packages/sklearn/linear_model/_logistic.py:458: ConvergenceWarning: lbfgs failed to converge (status=1):\n",
            "STOP: TOTAL NO. of ITERATIONS REACHED LIMIT.\n",
            "\n",
            "Increase the number of iterations (max_iter) or scale the data as shown in:\n",
            "    https://scikit-learn.org/stable/modules/preprocessing.html\n",
            "Please also refer to the documentation for alternative solver options:\n",
            "    https://scikit-learn.org/stable/modules/linear_model.html#logistic-regression\n",
            "  n_iter_i = _check_optimize_result(\n"
          ]
        }
      ]
    },
    {
      "cell_type": "markdown",
      "source": [],
      "metadata": {
        "id": "dPup-WLCk8DC"
      }
    }
  ]
}